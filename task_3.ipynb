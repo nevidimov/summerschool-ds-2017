{
 "cells": [
  {
   "cell_type": "markdown",
   "metadata": {},
   "source": [
    "# Выбор способа решения\n",
    "Описанный в задаче процесс называется *одномерное дискретное случайное блуждание с одним поглощающим экраном*.\n",
    "\n",
    "Данный процесс хорошо описан при `N→∞`, но для конечных N каких-либо аналитических методов определения вероятности поглощения я не нашел.\n",
    "\n",
    "Поэтому задача была решена **пошаговым моделированием** поведения пьяницы. \n",
    "\n",
    "Мы выполняем N шагов, и на каждом шаге рассчитываем вероятность нахождения пьяницы во всех возможных позициях (кроме тех позиций, в которых он уже упал с обрыва). Сложность алгоритма по времени `O(N²)`, по памяти `O(N)`."
   ]
  },
  {
   "cell_type": "markdown",
   "metadata": {},
   "source": [
    "### Ремарка о неоднозначности в условии задачи\n",
    "В условии задачи содержалась некоторая неоднозначность — неясно, что произойдет с пьяницей, когда он сделает два шага вперед из начальной позиции (упадет с обрыва или будет балансировать на грани обрыва — и упадет только после третьего шага).\n",
    "\n",
    "Приведенное решение исходит из того, что пьяница упадет с обрыва, сделав 2 последовательных шага вперед из начальной точки.\n",
    "\n",
    "Если это предположение неверно и пьянице требуется сделать 3 последовательных шага вперед из начальной точки, чтобы упасть с обрыва, то достаточно установить параметр функции distance_to_death = 3, чтобы получить правильный ответ."
   ]
  },
  {
   "cell_type": "code",
   "execution_count": 98,
   "metadata": {
    "collapsed": false
   },
   "outputs": [],
   "source": [
    "import copy\n",
    "\n",
    "def calculate_survival_probability(steps_count=5, distance_to_death=2):\n",
    "    # В начале мы с вероятностью 1 находимся на отметке 0\n",
    "    probabilities = dict.fromkeys(list(range(-steps_count, distance_to_death + 1)), 0)\n",
    "    probabilities[0] = 1\n",
    "    \n",
    "    # Делаем заданное число шагов\n",
    "    for step in range(steps_count):\n",
    "        probabilities_next_step = copy.deepcopy(probabilities)\n",
    "        \n",
    "        # Пьяница может находиться в интервале [-steps_count, distance_to_death) \n",
    "        # Перебираем все положения этого интервала и вычисляем вероятности для следующего шага\n",
    "        for i in range(-steps_count, distance_to_death):\n",
    "            p = probabilities[i]\n",
    "            if p:\n",
    "                probabilities_next_step[i] = 0\n",
    "                probabilities_next_step[i - 1] += p * 2 / 3\n",
    "                probabilities_next_step[i + 1] += p * 1 / 3\n",
    "\n",
    "        # И повторяем процесс снова \n",
    "        probabilities = probabilities_next_step\n",
    "        \n",
    "    '''\n",
    "    После работы функции в словаре probabilities по ключу i будет находиться \n",
    "    вероятность нахождения пьяницы на расстоянии i шагов от начальной точки,\n",
    "    где i находится в интервале [-steps_count, distance_to_death).\n",
    "    \n",
    "    По ключу distance_to_death будет находиться вероятность попадания пьяницы\n",
    "    на позицию distance_to_death в какой-либо момент его путешествия.\n",
    "    '''\n",
    "    return 1 - probabilities[distance_to_death]\n",
    "        "
   ]
  },
  {
   "cell_type": "markdown",
   "metadata": {},
   "source": [
    "## Какова вероятность выжить после 5 шагов?\n",
    "\n",
    "Для нахождения вызовем функцию calculate_survival_probability."
   ]
  },
  {
   "cell_type": "code",
   "execution_count": 103,
   "metadata": {
    "collapsed": false
   },
   "outputs": [
    {
     "data": {
      "text/plain": [
       "0.8395061728395061"
      ]
     },
     "execution_count": 103,
     "metadata": {},
     "output_type": "execute_result"
    }
   ],
   "source": [
    "calculate_survival_probability(5)"
   ]
  },
  {
   "cell_type": "markdown",
   "metadata": {},
   "source": [
    "Ответ: **0.8395061728395061**."
   ]
  },
  {
   "cell_type": "markdown",
   "metadata": {},
   "source": [
    "## Построим график функции\n",
    "Число шагов будем варьировать от 1 до 99.\n",
    "\n",
    "На графике видно, что при большом числе шагов вероятность выжить сходится к некоторому значению."
   ]
  },
  {
   "cell_type": "code",
   "execution_count": 105,
   "metadata": {
    "collapsed": false,
    "scrolled": true
   },
   "outputs": [
    {
     "data": {
      "image/png": "[encoded data removed]",
      "text/plain": [
       "<matplotlib.figure.Figure at 0x116af95f8>"
      ]
     },
     "metadata": {},
     "output_type": "display_data"
    }
   ],
   "source": [
    "import matplotlib.pyplot as plt\n",
    "\n",
    "data = np.array([calculate_survival_probability(steps) for steps in range(1, 100)])\n",
    "\n",
    "plt.rcParams['figure.figsize'] = (18, 5)\n",
    "plt.plot(data)\n",
    "plt.ylabel('Шанс выжить')\n",
    "plt.xlabel('Число шагов')\n",
    "plt.show()"
   ]
  },
  {
   "cell_type": "markdown",
   "metadata": {},
   "source": [
    "Узнаем это значение при 1000 шагов (приближенный предел нашей функции)."
   ]
  },
  {
   "cell_type": "code",
   "execution_count": 106,
   "metadata": {
    "collapsed": false
   },
   "outputs": [
    {
     "data": {
      "text/plain": [
       "0.7500000000000004"
      ]
     },
     "execution_count": 106,
     "metadata": {},
     "output_type": "execute_result"
    }
   ],
   "source": [
    "calculate_survival_probability(1000)"
   ]
  }
 ],
 "metadata": {
  "kernelspec": {
   "display_name": "Python 3",
   "language": "python",
   "name": "python3"
  },
  "language_info": {
   "codemirror_mode": {
    "name": "ipython",
    "version": 3
   },
   "file_extension": ".py",
   "mimetype": "text/x-python",
   "name": "python",
   "nbconvert_exporter": "python",
   "pygments_lexer": "ipython3",
   "version": "3.6.0"
  }
 },
 "nbformat": 4,
 "nbformat_minor": 2
}
