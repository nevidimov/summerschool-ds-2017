{
 "cells": [
  {
   "cell_type": "code",
   "execution_count": 29,
   "metadata": {
    "collapsed": true
   },
   "outputs": [],
   "source": [
    "import matplotlib.pyplot as plt\n",
    "import numpy as np"
   ]
  },
  {
   "cell_type": "code",
   "execution_count": 34,
   "metadata": {
    "collapsed": false
   },
   "outputs": [],
   "source": [
    "def calculate_survival_probability(steps_count=5, distance_to_death=2):\n",
    "    # В начале мы с вероятностью 1 находимся на отметке 0\n",
    "    probabilities = dict.fromkeys(list(range(-steps_count, distance_to_death + 1)), 0)\n",
    "    probabilities[0] = 1\n",
    "    for step in range(steps_count):\n",
    "        probabilities_next_step = probabilities\n",
    "        for i in range(-steps_count, distance_to_death):\n",
    "            p = probabilities[i]\n",
    "            if p:\n",
    "                probabilities_next_step[i] = 0\n",
    "                probabilities_next_step[i - 1] += p * 2 / 3\n",
    "                probabilities_next_step[i + 1] += p * 1 / 3\n",
    "        probabilities = probabilities_next_step\n",
    "    # print(sum(probabilities.values()))\n",
    "    return probabilities[distance_to_death]\n",
    "        "
   ]
  },
  {
   "cell_type": "code",
   "execution_count": 36,
   "metadata": {
    "collapsed": false
   },
   "outputs": [
    {
     "data": {
      "image/png": "[encoded data removed]",
      "text/plain": [
       "<matplotlib.figure.Figure at 0x1166fd518>"
      ]
     },
     "metadata": {},
     "output_type": "display_data"
    }
   ],
   "source": [
    "data =  np.array([calculate_survival_probability(steps) for steps in range(0, 100)])\n",
    "plt.plot(data)\n",
    "plt.ylabel('Шанс выжить')\n",
    "plt.show()"
   ]
  }
 ],
 "metadata": {
  "kernelspec": {
   "display_name": "Python 3",
   "language": "python",
   "name": "python3"
  },
  "language_info": {
   "codemirror_mode": {
    "name": "ipython",
    "version": 3
   },
   "file_extension": ".py",
   "mimetype": "text/x-python",
   "name": "python",
   "nbconvert_exporter": "python",
   "pygments_lexer": "ipython3",
   "version": "3.6.0"
  }
 },
 "nbformat": 4,
 "nbformat_minor": 2
}
